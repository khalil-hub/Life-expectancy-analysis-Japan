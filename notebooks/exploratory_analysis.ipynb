{
 "cells": [
  {
   "cell_type": "code",
   "execution_count": 33,
   "metadata": {},
   "outputs": [
    {
     "name": "stdout",
     "output_type": "stream",
     "text": [
      "Index(['Prefecture', 'Life_expectancy', 'Physician_100kP', 'Junior_col_%',\n",
      "       'University_%', 'Public_Hosp_%', 'Psych_Hosp_100kP', 'Psych_Beds_100kP',\n",
      "       'Nurses_100kP', 'Avg_Work_Hours_Month', 'Salary', 'Elementary_school',\n",
      "       'Sport_fac_1MP', 'Park_Land_%', 'Forest_Land_%', 'Income_Person',\n",
      "       'Population_Density_km2', 'General_Hospital_100kP',\n",
      "       'General_Hospital_Beds_100k', 'Ambulances_100kP',\n",
      "       'Health_Expenditure_%', 'Educ_Expenditure_%', 'Welfare_Expenditure_%',\n",
      "       'Prefecture_encoded'],\n",
      "      dtype='object')\n",
      "       Life_expectancy  Physician_100kP  Junior_col_%  University_%  \\\n",
      "count        47.000000        47.000000     47.000000     47.000000   \n",
      "mean         84.525745       261.438298     13.627660     18.621277   \n",
      "std           0.503133        40.948842      1.243191      4.459818   \n",
      "min          82.800000       177.800000     11.300000     11.800000   \n",
      "25%          84.240000       230.400000     12.850000     15.750000   \n",
      "50%          84.540000       257.900000     13.500000     18.100000   \n",
      "75%          84.885000       290.950000     14.350000     20.600000   \n",
      "max          85.500000       338.400000     16.900000     31.600000   \n",
      "\n",
      "       Public_Hosp_%  Psych_Hosp_100kP  Psych_Beds_100kP  Nurses_100kP  \\\n",
      "count      47.000000         47.000000         47.000000     47.000000   \n",
      "mean       21.263830          1.114894        317.861702   1121.568085   \n",
      "std        10.393548          0.557548        119.613115    244.333898   \n",
      "min         7.400000          0.300000        147.700000    704.000000   \n",
      "25%        14.650000          0.700000        224.050000    945.650000   \n",
      "50%        19.200000          1.000000        299.000000   1096.100000   \n",
      "75%        25.300000          1.350000        367.150000   1278.200000   \n",
      "max        49.100000          2.300000        594.900000   1640.700000   \n",
      "\n",
      "       Avg_Work_Hours_Month      Salary  ...  Forest_Land_%  Income_Person  \\\n",
      "count             47.000000   47.000000  ...      47.000000      47.000000   \n",
      "mean             173.914894  290.817021  ...      61.580851    3003.829787   \n",
      "std                1.482943   24.657670  ...      14.966450     467.912446   \n",
      "min              171.000000  254.500000  ...      29.900000    2391.000000   \n",
      "25%              173.000000  270.250000  ...      51.800000    2705.500000   \n",
      "50%              173.500000  291.500000  ...      66.300000    2945.000000   \n",
      "75%              175.000000  303.575000  ...      73.650000    3175.000000   \n",
      "max              178.000000  378.150000  ...      83.300000    5415.000000   \n",
      "\n",
      "       Population_Density_km2  General_Hospital_100kP  \\\n",
      "count               47.000000               47.000000   \n",
      "mean              1351.429787                6.874468   \n",
      "std               1791.211704                2.783606   \n",
      "min                230.200000                3.100000   \n",
      "25%                601.750000                4.900000   \n",
      "50%                786.800000                5.900000   \n",
      "75%               1260.250000                8.250000   \n",
      "max               9873.300000               16.100000   \n",
      "\n",
      "       General_Hospital_Beds_100k  Ambulances_100kP  Health_Expenditure_%  \\\n",
      "count                   47.000000         47.000000             47.000000   \n",
      "mean                  1130.825532          6.391489              3.359574   \n",
      "std                    263.363158          1.874524              0.844970   \n",
      "min                    676.900000          2.600000              2.060000   \n",
      "25%                    949.100000          5.250000              2.780000   \n",
      "50%                   1112.800000          6.300000              3.210000   \n",
      "75%                   1286.000000          7.400000              3.760000   \n",
      "max                   2052.600000         11.600000              6.050000   \n",
      "\n",
      "       Educ_Expenditure_%  Welfare_Expenditure_%  Prefecture_encoded  \n",
      "count           47.000000              47.000000           47.000000  \n",
      "mean            21.310426              15.968936           23.000000  \n",
      "std              2.923241               2.629713           13.711309  \n",
      "min             16.040000              10.310000            0.000000  \n",
      "25%             19.545000              14.150000           11.500000  \n",
      "50%             20.940000              15.600000           23.000000  \n",
      "75%             23.525000              17.510000           34.500000  \n",
      "max             27.530000              23.010000           46.000000  \n",
      "\n",
      "[8 rows x 23 columns]\n"
     ]
    }
   ],
   "source": [
    "# Generate a summary statistics \n",
    "import pandas as pd\n",
    "data_Path = '/Users/khalilmosbah/Library/CloudStorage/OneDrive-国立大学法人東海国立大学機構/Weekly_challenges/Data science and Analytics/Japan_Life_Expectency/data/processed/Cleaned_Japan_Life_Expectancy.xlsx'\n",
    "data=pd.read_excel(data_Path)\n",
    "print(data.columns)\n",
    "print(data.describe())"
   ]
  },
  {
   "cell_type": "code",
   "execution_count": null,
   "metadata": {},
   "outputs": [],
   "source": [
    "\n",
    "# Plot distributions of features \n",
    "import seaborn as sns \n",
    "import matplotlib.pyplot as plt\n",
    "sns.histplot(data['Life_expectancy'], kde=True)\n",
    "plt.title(\"Life expectancy distribution\")\n",
    "plt.xlabel(\"Life Expectancy\")\n",
    "plt.show()\n",
    "\n",
    "sns.histplot(data['Health_Expenditure_%'], kde=True)\n",
    "plt.title(\"Health Expenditure distribution\")\n",
    "plt.xlabel(\"Health Expenditure\")\n",
    "plt.show()"
   ]
  },
  {
   "cell_type": "code",
   "execution_count": null,
   "metadata": {},
   "outputs": [],
   "source": [
    "# Correlation Heatmap\n",
    "import pandas as pd\n",
    "import matplotlib.pyplot as plt\n",
    "import seaborn as sns\n",
    "data_Path = '/Users/khalilmosbah/Library/CloudStorage/OneDrive-国立大学法人東海国立大学機構/Weekly_challenges/Data science and Analytics/Japan_Life_Expectency/data/processed/Cleaned_Japan_Life_Expectancy.xlsx'\n",
    "data=pd.read_excel(data_Path)\n",
    "#select only numerical data \n",
    "numeric_data=data.select_dtypes(include=[\"float64\", \"int64\"])\n",
    "#compute correlation matrix\n",
    "plt.figure(figsize=(12, 10))\n",
    "correlation_Matrix=numeric_data.corr()\n",
    "print(correlation_Matrix)\n",
    "#plot heatmap rounding to 2 decimals: Primary finding strong correlation between life expectancy and (people finished junior high school and college and higher salaries)\n",
    "sns.heatmap(correlation_Matrix, annot=True, cmap=\"coolwarm\", fmt=\".2f\")\n",
    "plt.title(\"correlation Matrix Heatmap\")\n",
    "plt.show()"
   ]
  },
  {
   "cell_type": "code",
   "execution_count": null,
   "metadata": {},
   "outputs": [],
   "source": [
    "#Pair plots for key features \n",
    "import seaborn as sns\n",
    "import matplotlib.pyplot as plt\n",
    "data_Path = '/Users/khalilmosbah/Library/CloudStorage/OneDrive-国立大学法人東海国立大学機構/Weekly_challenges/Data science and Analytics/Japan_Life_Expectency/data/processed/Cleaned_Japan_Life_Expectancy.xlsx'\n",
    "data=pd.read_excel(data_Path)\n",
    "key_features=['Life_expectancy', 'Junior_col_%', 'University_%', 'Salary']\n",
    "sns.pairplot(data[key_features])\n",
    "plt.show()\n"
   ]
  },
  {
   "cell_type": "code",
   "execution_count": null,
   "metadata": {},
   "outputs": [],
   "source": [
    "#Boxplot for outlier detection\n",
    "import seaborn as sns\n",
    "import matplotlib.pyplot as plt\n",
    "data_Path = '/Users/khalilmosbah/Library/CloudStorage/OneDrive-国立大学法人東海国立大学機構/Weekly_challenges/Data science and Analytics/Japan_Life_Expectency/data/processed/Cleaned_Japan_Life_Expectancy.xlsx'\n",
    "data=pd.read_excel(data_Path)\n",
    "sns.boxplot(x=data['Income_Person'])\n",
    "plt.title(\"Box plot income per capita\")\n",
    "plt.show()"
   ]
  }
 ],
 "metadata": {
  "kernelspec": {
   "display_name": "aframe",
   "language": "python",
   "name": "python3"
  },
  "language_info": {
   "codemirror_mode": {
    "name": "ipython",
    "version": 3
   },
   "file_extension": ".py",
   "mimetype": "text/x-python",
   "name": "python",
   "nbconvert_exporter": "python",
   "pygments_lexer": "ipython3",
   "version": "3.12.4"
  }
 },
 "nbformat": 4,
 "nbformat_minor": 2
}
