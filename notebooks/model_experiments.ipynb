{
 "cells": [
  {
   "cell_type": "code",
   "execution_count": 12,
   "metadata": {},
   "outputs": [],
   "source": [
    "import pandas as pd\n",
    "from sklearn.model_selection import GridSearchCV\n",
    "from sklearn.linear_model import Lasso\n",
    "from sklearn.ensemble import RandomForestRegressor\n",
    "from xgboost import XGBRegressor\n",
    "from sklearn.svm import SVR\n",
    "import joblib\n",
    "def best_model(X_train, y_train, model_path):\n",
    "# Define the models and their parameter grids\n",
    "    param_grids = {\n",
    "        \"Lasso Regression\": {\n",
    "            \"model\": Lasso(),\n",
    "            \"params\": {\"alpha\": [0.01, 0.1, 1, 10, 100]}\n",
    "        },\n",
    "        \"Random Forest Regressor\": {\n",
    "            \"model\": RandomForestRegressor(),\n",
    "            \"params\": {\n",
    "                \"n_estimators\": [50, 100, 200],\n",
    "                \"max_depth\": [None, 10, 20],\n",
    "                \"min_samples_split\": [2, 5, 10]\n",
    "            }\n",
    "        },\n",
    "        \"XGBoost\": {\n",
    "            \"model\": XGBRegressor(),\n",
    "            \"params\": {\n",
    "                \"n_estimators\": [50, 100],\n",
    "                \"learning_rate\": [0.01, 0.1],\n",
    "                \"max_depth\": [3, 5]\n",
    "            }\n",
    "        },\n",
    "        \"Support Vector Regression\": {\n",
    "            \"model\": SVR(),\n",
    "            \"params\": {\n",
    "                \"C\": [0.1, 1, 10],\n",
    "                \"epsilon\": [0.01, 0.1],\n",
    "                \"kernel\": [\"linear\", \"rbf\"]\n",
    "            }\n",
    "        }\n",
    "    }\n",
    "    #perform grid search\n",
    "    best_models={}\n",
    "    for model_name, config in param_grids.items():\n",
    "        grid_search=GridSearchCV(\n",
    "            estimator=config[\"model\"],\n",
    "            param_grid=config[\"params\"],\n",
    "            scoring=\"neg_mean_squared_error\",\n",
    "            cv=5,\n",
    "            n_jobs=-1\n",
    "        )\n",
    "        grid_search.fit(X_train, y_train)\n",
    "        best_models[model_name]=grid_search.best_estimator_\n",
    "        print(f\"Best params for {model_name}: {grid_search.best_params_}\")\n",
    "        #save best model with best params\n",
    "        joblib.dump(grid_search.best_estimator_, f\"{model_path}/{model_name.replace(' ', '_')}.pkl\")\n",
    "    return best_models"
   ]
  },
  {
   "cell_type": "code",
   "execution_count": 15,
   "metadata": {},
   "outputs": [
    {
     "name": "stdout",
     "output_type": "stream",
     "text": [
      "                            OLS Regression Results                            \n",
      "==============================================================================\n",
      "Dep. Variable:        Life_expectancy   R-squared:                       0.530\n",
      "Model:                            OLS   Adj. R-squared:                  0.497\n",
      "Method:                 Least Squares   F-statistic:                     16.14\n",
      "Date:                Mon, 27 Jan 2025   Prob (F-statistic):           3.59e-07\n",
      "Time:                        15:17:53   Log-Likelihood:                -16.179\n",
      "No. Observations:                  47   AIC:                             40.36\n",
      "Df Residuals:                      43   BIC:                             47.76\n",
      "Df Model:                           3                                         \n",
      "Covariance Type:            nonrobust                                         \n",
      "======================================================================================\n",
      "                         coef    std err          t      P>|t|      [0.025      0.975]\n",
      "--------------------------------------------------------------------------------------\n",
      "Intercept             83.4115      0.175    477.990      0.000      83.060      83.763\n",
      "Junior_col_percent     1.2121      0.240      5.048      0.000       0.728       1.696\n",
      "Physician_100kP        0.7581      0.209      3.635      0.001       0.338       1.179\n",
      "Park_Land_percent      0.5625      0.198      2.845      0.007       0.164       0.961\n",
      "==============================================================================\n",
      "Omnibus:                        1.533   Durbin-Watson:                   2.164\n",
      "Prob(Omnibus):                  0.465   Jarque-Bera (JB):                1.490\n",
      "Skew:                          -0.347   Prob(JB):                        0.475\n",
      "Kurtosis:                       2.473   Cond. No.                         6.78\n",
      "==============================================================================\n",
      "\n",
      "Notes:\n",
      "[1] Standard Errors assume that the covariance matrix of the errors is correctly specified.\n"
     ]
    }
   ],
   "source": [
    "import pandas as pd\n",
    "import statsmodels.api as sm\n",
    "from statsmodels.formula.api import ols\n",
    "data=pd.read_excel('~/Library/CloudStorage/OneDrive-国立大学法人東海国立大学機構/Weekly_challenges/Data science and Analytics/Japan_Life_Expectency/data/processed/Cleaned_Japan_Life_Expectancy.xlsx')\n",
    "\n",
    "data.rename(columns={'Junior_col_%': 'Junior_col_percent', 'Park_Land_%': 'Park_Land_percent'}, inplace=True)# Define the model\n",
    "model = ols('Life_expectancy ~ Junior_col_percent + Physician_100kP + Park_Land_percent', data=data).fit()\n",
    "\n",
    "# Print the summary of the regression results\n",
    "print(model.summary())\n"
   ]
  },
  {
   "cell_type": "markdown",
   "metadata": {},
   "source": [
    "# Observations form model_experiments\n",
    "- `Socioeconomic_index` and `Ambulances_100kP` do not appear to be statistically significant (>0.05) in predicting `life expectancy` based on their p-values. Removing these features might improve the model’s performance and make it more reliable.\n",
    "- All three independent variables (`education`, `healthcare access`, and `park access`) are statistically significant predictors of `life expectancy`, with positive relationships.\n",
    "- `Education` has the largest impact on `life expectancy` among the three variables, followed by `healthcare` access and `access to parks`. (1% increase in junior_col increases life_expectancy by 1.2 years, 1 additionaal physician increases life expectancy by 0.75, 1% increase in Park_Land increases life_expectancy by 0.56)\n",
    "- The model explains a moderate portion (53%) of the variation in `life expectancy`, and the residuals are approximately normally distributed, suggesting that the model is well-specified and the assumptions are reasonably met."
   ]
  }
 ],
 "metadata": {
  "kernelspec": {
   "display_name": "Python 3",
   "language": "python",
   "name": "python3"
  },
  "language_info": {
   "codemirror_mode": {
    "name": "ipython",
    "version": 3
   },
   "file_extension": ".py",
   "mimetype": "text/x-python",
   "name": "python",
   "nbconvert_exporter": "python",
   "pygments_lexer": "ipython3",
   "version": "3.12.4"
  }
 },
 "nbformat": 4,
 "nbformat_minor": 2
}
