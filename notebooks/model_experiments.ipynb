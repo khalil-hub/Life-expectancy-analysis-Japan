{
 "cells": [
  {
   "cell_type": "code",
   "execution_count": 1,
   "metadata": {},
   "outputs": [
    {
     "name": "stdout",
     "output_type": "stream",
     "text": [
      "                            OLS Regression Results                            \n",
      "==============================================================================\n",
      "Dep. Variable:        Life_expectancy   R-squared:                       0.407\n",
      "Model:                            OLS   Adj. R-squared:                  0.372\n",
      "Method:                 Least Squares   F-statistic:                     11.65\n",
      "Date:                Sun, 29 Dec 2024   Prob (F-statistic):           0.000140\n",
      "Time:                        00:04:36   Log-Likelihood:                -18.090\n",
      "No. Observations:                  37   AIC:                             42.18\n",
      "Df Residuals:                      34   BIC:                             47.01\n",
      "Df Model:                           2                                         \n",
      "Covariance Type:            nonrobust                                         \n",
      "================================================================================\n",
      "                   coef    std err          t      P>|t|      [0.025      0.975]\n",
      "--------------------------------------------------------------------------------\n",
      "const           81.7617      0.789    103.643      0.000      80.159      83.365\n",
      "University_%     0.0489      0.017      2.823      0.008       0.014       0.084\n",
      "Junior_col_%     0.1338      0.065      2.045      0.049       0.001       0.267\n",
      "==============================================================================\n",
      "Omnibus:                        0.299   Durbin-Watson:                   2.445\n",
      "Prob(Omnibus):                  0.861   Jarque-Bera (JB):                0.180\n",
      "Skew:                          -0.161   Prob(JB):                        0.914\n",
      "Kurtosis:                       2.886   Cond. No.                         276.\n",
      "==============================================================================\n",
      "\n",
      "Notes:\n",
      "[1] Standard Errors assume that the covariance matrix of the errors is correctly specified.\n"
     ]
    }
   ],
   "source": [
    "import statsmodels.api as sm\n",
    "import pandas as pd\n",
    "\n",
    "X_train=pd.read_excel(\"~/Library/CloudStorage/OneDrive-国立大学法人東海国立大学機構/Weekly_challenges/Data science and Analytics/Japan_Life_Expectency/data/processed/X_train_best.xlsx\")\n",
    "y_train=pd.read_excel(\"~/Library/CloudStorage/OneDrive-国立大学法人東海国立大学機構/Weekly_challenges/Data science and Analytics/Japan_Life_Expectency/data/processed/y_train.xlsx\")\n",
    "\n",
    "#evaluate the model's performance\n",
    "\n",
    "# Add a constant for intercept\n",
    "X_train_sm = sm.add_constant(X_train)\n",
    "\n",
    "# Fit the model using statsmodels\n",
    "ols_model = sm.OLS(y_train, X_train_sm).fit()\n",
    "\n",
    "# Summary of the model\n",
    "print(ols_model.summary())\n"
   ]
  },
  {
   "cell_type": "code",
   "execution_count": 2,
   "metadata": {},
   "outputs": [
    {
     "name": "stdout",
     "output_type": "stream",
     "text": [
      "                            OLS Regression Results                            \n",
      "==============================================================================\n",
      "Dep. Variable:        Life_expectancy   R-squared:                       0.615\n",
      "Model:                            OLS   Adj. R-squared:                  0.552\n",
      "Method:                 Least Squares   F-statistic:                     9.888\n",
      "Date:                Sun, 29 Dec 2024   Prob (F-statistic):           1.00e-05\n",
      "Time:                        00:22:52   Log-Likelihood:                -10.108\n",
      "No. Observations:                  37   AIC:                             32.22\n",
      "Df Residuals:                      31   BIC:                             41.88\n",
      "Df Model:                           5                                         \n",
      "Covariance Type:            nonrobust                                         \n",
      "===================================================================================\n",
      "                      coef    std err          t      P>|t|      [0.025      0.975]\n",
      "-----------------------------------------------------------------------------------\n",
      "const              95.5272     10.980      8.700      0.000      73.133     117.921\n",
      "University_%        0.0867      0.041      2.126      0.042       0.004       0.170\n",
      "Junior_col_%        0.1178      0.059      2.009      0.053      -0.002       0.237\n",
      "Salary_Log         -2.8214      2.001     -1.410      0.168      -6.901       1.259\n",
      "Park_Land_%_Log     0.2320      0.108      2.145      0.040       0.011       0.453\n",
      "Physician_100kP     0.0044      0.002      2.910      0.007       0.001       0.007\n",
      "==============================================================================\n",
      "Omnibus:                        4.365   Durbin-Watson:                   2.256\n",
      "Prob(Omnibus):                  0.113   Jarque-Bera (JB):                3.031\n",
      "Skew:                          -0.643   Prob(JB):                        0.220\n",
      "Kurtosis:                       3.561   Cond. No.                     5.04e+04\n",
      "==============================================================================\n",
      "\n",
      "Notes:\n",
      "[1] Standard Errors assume that the covariance matrix of the errors is correctly specified.\n",
      "[2] The condition number is large, 5.04e+04. This might indicate that there are\n",
      "strong multicollinearity or other numerical problems.\n"
     ]
    }
   ],
   "source": [
    "import statsmodels.api as sm\n",
    "import pandas as pd\n",
    "\n",
    "X_train=pd.read_excel(\"~/Library/CloudStorage/OneDrive-国立大学法人東海国立大学機構/Weekly_challenges/Data science and Analytics/Japan_Life_Expectency/data/processed/X_train.xlsx\")\n",
    "y_train=pd.read_excel(\"~/Library/CloudStorage/OneDrive-国立大学法人東海国立大学機構/Weekly_challenges/Data science and Analytics/Japan_Life_Expectency/data/processed/y_train.xlsx\")\n",
    "\n",
    "#evaluate the model's performance\n",
    "\n",
    "# Add a constant for intercept\n",
    "X_train_sm = sm.add_constant(X_train)\n",
    "\n",
    "# Fit the model using statsmodels\n",
    "ols_model = sm.OLS(y_train, X_train_sm).fit()\n",
    "\n",
    "# Summary of the model\n",
    "print(ols_model.summary())\n"
   ]
  }
 ],
 "metadata": {
  "kernelspec": {
   "display_name": "Python 3",
   "language": "python",
   "name": "python3"
  },
  "language_info": {
   "codemirror_mode": {
    "name": "ipython",
    "version": 3
   },
   "file_extension": ".py",
   "mimetype": "text/x-python",
   "name": "python",
   "nbconvert_exporter": "python",
   "pygments_lexer": "ipython3",
   "version": "3.12.4"
  }
 },
 "nbformat": 4,
 "nbformat_minor": 2
}
